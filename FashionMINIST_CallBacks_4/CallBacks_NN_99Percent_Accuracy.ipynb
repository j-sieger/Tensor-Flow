{
 "cells": [
  {
   "cell_type": "code",
   "execution_count": 1,
   "metadata": {},
   "outputs": [
    {
     "name": "stderr",
     "output_type": "stream",
     "text": [
      "C:\\Users\\JanU\\Anaconda3\\lib\\site-packages\\h5py\\__init__.py:36: FutureWarning: Conversion of the second argument of issubdtype from `float` to `np.floating` is deprecated. In future, it will be treated as `np.float64 == np.dtype(float).type`.\n",
      "  from ._conv import register_converters as _register_converters\n"
     ]
    }
   ],
   "source": [
    "import tensorflow as tf"
   ]
  },
  {
   "cell_type": "code",
   "execution_count": 2,
   "metadata": {},
   "outputs": [],
   "source": [
    "class MyCallback(tf.keras.callbacks.Callback):\n",
    "    def on_epoch_end(self, epoch,logs={}):\n",
    "        if (logs.get('acc')>0.998):\n",
    "            self.model.stop_training = True"
   ]
  },
  {
   "cell_type": "code",
   "execution_count": 3,
   "metadata": {},
   "outputs": [],
   "source": [
    "callbacks = MyCallback()\n",
    "mnist = tf.keras.datasets.mnist\n"
   ]
  },
  {
   "cell_type": "code",
   "execution_count": 4,
   "metadata": {},
   "outputs": [],
   "source": [
    "(training_images, training_labels), (test_images, test_labels) = mnist.load_data()\n",
    "training_images=training_images.reshape(60000, 28, 28, 1)\n",
    "training_images=training_images / 255.0\n",
    "test_images = test_images.reshape(10000, 28, 28, 1)\n",
    "test_images=test_images/255.0"
   ]
  },
  {
   "cell_type": "code",
   "execution_count": 7,
   "metadata": {},
   "outputs": [],
   "source": [
    "model = tf.keras.models.Sequential([\n",
    "    tf.keras.layers.Conv2D(32,(3,3), activation='relu', input_shape=(28,28,1)),\n",
    "    tf.keras.layers.MaxPooling2D(2,2),\n",
    "    tf.keras.layers.Flatten(),\n",
    "    tf.keras.layers.Dense(128, activation='relu'),\n",
    "    tf.keras.layers.Dense(10, activation='softmax')\n",
    "])"
   ]
  },
  {
   "cell_type": "code",
   "execution_count": 8,
   "metadata": {},
   "outputs": [
    {
     "name": "stdout",
     "output_type": "stream",
     "text": [
      "Epoch 1/10\n",
      "60000/60000 [==============================] - 95s 2ms/step - loss: 0.1502 - acc: 0.9553: 2s -\n",
      "Epoch 2/10\n",
      "60000/60000 [==============================] - 28845s 481ms/step - loss: 0.0536 - acc: 0.9839:21 - loss: 0.0534 - a\n",
      "Epoch 3/10\n",
      "60000/60000 [==============================] - 85s 1ms/step - loss: 0.0343 - acc: 0.9895\n",
      "Epoch 4/10\n",
      "60000/60000 [==============================] - 84s 1ms/step - loss: 0.0234 - acc: 0.9925\n",
      "Epoch 5/10\n",
      "60000/60000 [==============================] - 84s 1ms/step - loss: 0.0156 - acc: 0.9950\n",
      "Epoch 6/10\n",
      "60000/60000 [==============================] - 84s 1ms/step - loss: 0.0121 - acc: 0.9962: 2s\n",
      "Epoch 7/10\n",
      "60000/60000 [==============================] - 84s 1ms/step - loss: 0.0074 - acc: 0.9977\n",
      "Epoch 8/10\n",
      "60000/60000 [==============================] - 84s 1ms/step - loss: 0.0079 - acc: 0.9977: 0s - loss: 0.0079 - acc: - ETA: 0s - loss: 0.0079 - acc: 0.997\n",
      "Epoch 9/10\n",
      "60000/60000 [==============================] - 84s 1ms/step - loss: 0.0055 - acc: 0.9982\n"
     ]
    },
    {
     "data": {
      "text/plain": [
       "<tensorflow.python.keras.callbacks.History at 0xf82fab6ac8>"
      ]
     },
     "execution_count": 8,
     "metadata": {},
     "output_type": "execute_result"
    }
   ],
   "source": [
    "model.compile(optimizer='adam', loss='sparse_categorical_crossentropy', metrics=['accuracy'])\n",
    "model.fit(training_images, training_labels, epochs=10, callbacks=[callbacks])"
   ]
  },
  {
   "cell_type": "code",
   "execution_count": null,
   "metadata": {},
   "outputs": [],
   "source": []
  }
 ],
 "metadata": {
  "kernelspec": {
   "display_name": "Python 3",
   "language": "python",
   "name": "python3"
  },
  "language_info": {
   "codemirror_mode": {
    "name": "ipython",
    "version": 3
   },
   "file_extension": ".py",
   "mimetype": "text/x-python",
   "name": "python",
   "nbconvert_exporter": "python",
   "pygments_lexer": "ipython3",
   "version": "3.6.5"
  }
 },
 "nbformat": 4,
 "nbformat_minor": 2
}
